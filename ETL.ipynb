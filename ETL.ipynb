{
 "cells": [
  {
   "cell_type": "code",
   "execution_count": 42,
   "id": "bc5cad2e-e965-4e06-8297-5122be5f5ce6",
   "metadata": {},
   "outputs": [],
   "source": [
    "import requests\n",
    "import pandas as pd\n",
    "import numpy as np\n",
    "import joblib\n",
    "from datetime import datetime, timedelta\n"
   ]
  },
  {
   "cell_type": "code",
   "execution_count": 84,
   "id": "169e89be-b00b-4186-9a8a-7f835703af3f",
   "metadata": {},
   "outputs": [],
   "source": [
    "API_KEYS = {\n",
    "    \"alpha_vantage\": \"1WD02A0ZXUENB863\",\n",
    "    \"fred\": \"aadcef49fb39a772a54e92142ac7f12c\",\n",
    "    \"api_ninjas\": \"ezhu6DmffTA5ORjPxHLMlQ==B8XXAjW8KBUDzijV\",\n",
    "    \"open_exchange_rates\": \"f00b5c7db237401eb9964d25fc5206f0\"\n",
    "}\n"
   ]
  },
  {
   "cell_type": "code",
   "execution_count": 44,
   "id": "617e20c5-4a21-45df-9d41-1f817d5755a6",
   "metadata": {},
   "outputs": [],
   "source": [
    "def fetch_data(api_url, csv_file, columns, json_key=None):\n",
    "    try:\n",
    "        response = requests.get(api_url)\n",
    "        if response.status_code == 200:\n",
    "            data = response.json()\n",
    "            if json_key:  \n",
    "                data = data[json_key]\n",
    "            df = pd.DataFrame(data)\n",
    "            return df[columns]\n",
    "        else:\n",
    "            print(f\"⚠️ API failed ({response.status_code}), loading from {csv_file}\")\n",
    "    except Exception as e:\n",
    "        print(f\"⚠️ API error: {e}, loading from {csv_file}\")\n",
    "\n",
    "    return pd.read_csv(csv_file, parse_dates=[\"Date\"])\n"
   ]
  },
  {
   "cell_type": "code",
   "execution_count": 47,
   "id": "f4f309a6-dfbb-404b-aa3a-f6fd78d9efb8",
   "metadata": {},
   "outputs": [
    {
     "name": "stdout",
     "output_type": "stream",
     "text": [
      "✅ USD/INR Exchange Rate: 85.817413\n"
     ]
    }
   ],
   "source": [
    "api_url = f\"https://openexchangerates.org/api/latest.json?app_id={API_KEYS['open_exchange_rates']}\"\n",
    "response = requests.get(api_url)\n",
    "exchnage_rate = response.json()\n",
    "usd_inr = data[\"rates\"][\"INR\"]\n",
    "print(\"✅ USD/INR Exchange Rate:\", usd_inr)\n"
   ]
  },
  {
   "cell_type": "code",
   "execution_count": 54,
   "id": "8c0b5cb2-f6b5-4d3d-b741-ef85ec6f8ea9",
   "metadata": {},
   "outputs": [],
   "source": [
    "# nifty_url = f\"https://www.alphavantage.co/query?function=TIME_SERIES_DAILY&symbol=NSE:NIFTY50&apikey={API_KEYS['alpha_vantage']}\"\n",
    "# sp500_url = f\"https://www.alphavantage.co/query?function=TIME_SERIES_DAILY&symbol=SPY&apikey={API_KEYS['alpha_vantage']}\"\n",
    "\n",
    "# response = requests.get(nifty_url)\n",
    "# data = response.json()\n",
    "# latest_date = list(data[\"Time Series (Daily)\"].keys())[0]\n",
    "# nifty_value = float(data[\"Time Series (Daily)\"][latest_date][\"4. close\"])\n",
    "# print(\"✅ NIFTY:\", nifty_value)\n"
   ]
  },
  {
   "cell_type": "code",
   "execution_count": 53,
   "id": "0f2d2c38-9285-4655-b846-86407118e044",
   "metadata": {},
   "outputs": [
    {
     "name": "stdout",
     "output_type": "stream",
     "text": [
      "✅ Latest NIFTY 50 Price: 23592.9\n"
     ]
    }
   ],
   "source": [
    "def get_nifty50_price():\n",
    "    \"\"\"Fetch the latest NIFTY 50 closing price from NSE India.\"\"\"\n",
    "    try:\n",
    "        nse_url = \"https://www.nseindia.com/api/equity-stockIndices?index=NIFTY%2050\"\n",
    "        headers = {\n",
    "            \"User-Agent\": \"Mozilla/5.0\",\n",
    "            \"Accept-Language\": \"en\",\n",
    "            \"Accept-Encoding\": \"gzip, deflate, br\"\n",
    "        }\n",
    "        response = requests.get(nse_url, headers=headers)\n",
    "        data = response.json()\n",
    "\n",
    "        for item in data[\"data\"]:\n",
    "            if item[\"symbol\"] == \"NIFTY 50\":\n",
    "                return item[\"lastPrice\"]\n",
    "\n",
    "    except Exception as e:\n",
    "        print(f\"⚠️ Error fetching NIFTY 50 data: {e}\")\n",
    "\n",
    "    return None\n",
    "\n",
    "# Test the function\n",
    "nifty_price = get_nifty50_price()\n",
    "print(\"✅ Latest NIFTY 50 Price:\", nifty_price)\n"
   ]
  },
  {
   "cell_type": "code",
   "execution_count": 56,
   "id": "6ba8e606-19e2-4eaf-846f-4ef5bd832af5",
   "metadata": {},
   "outputs": [
    {
     "name": "stdout",
     "output_type": "stream",
     "text": [
      "✅ Latest S&P 500 Price: 568.59\n"
     ]
    }
   ],
   "source": [
    "def get_sp500_price():\n",
    "    \"\"\"Fetch the latest S&P 500 closing price from Alpha Vantage.\"\"\"\n",
    "    alpha_vantage_api_key = \"1WD02A0ZXUENB863\"\n",
    "    sp500_url = f\"https://www.alphavantage.co/query?function=TIME_SERIES_DAILY&symbol=SPY&apikey={alpha_vantage_api_key}\"\n",
    "\n",
    "    try:\n",
    "        response = requests.get(sp500_url)\n",
    "        data = response.json()\n",
    "\n",
    "        latest_date = list(data[\"Time Series (Daily)\"].keys())[0]  # Get most recent date\n",
    "        return float(data[\"Time Series (Daily)\"][latest_date][\"4. close\"])\n",
    "\n",
    "    except Exception as e:\n",
    "        print(f\"⚠️ Error fetching S&P 500 data: {e}\")\n",
    "        return None\n",
    "\n",
    "# Test the function\n",
    "sp500_price = get_sp500_price()\n",
    "print(\"✅ Latest S&P 500 Price:\", sp500_price)\n"
   ]
  },
  {
   "cell_type": "code",
   "execution_count": 58,
   "id": "9a81b3df-a942-4e53-96c5-4db788ed441d",
   "metadata": {},
   "outputs": [
    {
     "name": "stdout",
     "output_type": "stream",
     "text": [
      "✅ Interest Rate USA: 4.33\n",
      "✅ Interest Rate USA: 5.15\n"
     ]
    }
   ],
   "source": [
    "usa_interest_url = f\"https://api.stlouisfed.org/fred/series/observations?series_id=FEDFUNDS&api_key={API_KEYS['fred']}&file_type=json\"\n",
    "india_interest_url = f\"https://api.stlouisfed.org/fred/series/observations?series_id=INTDSRINM193N&api_key={API_KEYS['fred']}&file_type=json\"\n",
    "\n",
    "response = requests.get(usa_interest_url)\n",
    "data = response.json()\n",
    "usa_interest_rate = float(data[\"observations\"][-1][\"value\"])\n",
    "print(\"✅ Interest Rate USA:\", usa_interest_rate)\n",
    "\n",
    "response = requests.get(india_interest_url)\n",
    "data = response.json()\n",
    "india_interest_rate = float(data[\"observations\"][-1][\"value\"])\n",
    "print(\"✅ Interest Rate India:\", india_interest_rate)"
   ]
  },
  {
   "cell_type": "code",
   "execution_count": 64,
   "id": "aebc250d-2cfa-4851-a6c0-beed4603afe9",
   "metadata": {},
   "outputs": [
    {
     "name": "stdout",
     "output_type": "stream",
     "text": [
      "✅ GDP Rate India: 1.18533625466961\n",
      "✅ GDP Rate USA: 2.3\n"
     ]
    }
   ],
   "source": [
    "import requests\n",
    "\n",
    "# ✅ Dictionary to Store API Keys\n",
    "API_KEYS = {\n",
    "    \"fred\": \"aadcef49fb39a772a54e92142ac7f12c\"\n",
    "}\n",
    "\n",
    "# ✅ API URLs for GDP Growth Rates\n",
    "gdp_usa_url = f\"https://api.stlouisfed.org/fred/series/observations?series_id=A191RL1Q225SBEA&api_key={API_KEYS['fred']}&file_type=json\"\n",
    "gdp_india_url = \"http://api.worldbank.org/v2/country/IN/indicator/NY.GDP.MKTP.KD.ZG?format=json\"\n",
    "\n",
    "# 📌 Fetch India GDP Growth Rate\n",
    "response = requests.get(gdp_india_url)\n",
    "data = response.json()\n",
    "\n",
    "# ✅ Extract GDP Growth Rate for India\n",
    "if len(data) > 1 and \"value\" in data[1][-1]:\n",
    "    gdp_india = float(data[1][-1][\"value\"])\n",
    "    print(\"✅ GDP Rate India:\", gdp_india)\n",
    "else:\n",
    "    print(\"⚠️ No data found for India GDP.\")\n",
    "\n",
    "# 📌 Fetch USA GDP Growth Rate\n",
    "response = requests.get(gdp_usa_url)\n",
    "data = response.json()\n",
    "\n",
    "# ✅ Extract GDP Growth Rate for USA\n",
    "if \"observations\" in data and len(data[\"observations\"]) > 0:\n",
    "    gdp_usa = float(data[\"observations\"][-1][\"value\"])\n",
    "    print(\"✅ GDP Rate USA:\", gdp_usa)\n",
    "else:\n",
    "    print(\"⚠️ No data found for USA GDP.\")\n"
   ]
  },
  {
   "cell_type": "code",
   "execution_count": 76,
   "id": "6e374d86-8818-4c18-958b-b176fc590fa2",
   "metadata": {},
   "outputs": [
    {
     "name": "stdout",
     "output_type": "stream",
     "text": [
      "✅ Inflation Rate USA: 4.11633838374488\n",
      "✅ Inflation Rate India: 28.598734077509\n"
     ]
    }
   ],
   "source": [
    "# ✅ API URLs for Inflation Rates\n",
    "inflation_usa_url = f\"https://api.stlouisfed.org/fred/series/observations?series_id=FPCPITOTLZGUSA&api_key={API_KEYS['fred']}&file_type=json\"\n",
    "inflation_india_url = \"http://api.worldbank.org/v2/country/IN/indicator/FP.CPI.TOTL.ZG?format=json\"\n",
    "\n",
    "# ✅ Fetch USA Inflation Rate (FRED)\n",
    "response = requests.get(inflation_usa_url)\n",
    "data = response.json()\n",
    "\n",
    "if \"observations\" in data and len(data[\"observations\"]) > 0:\n",
    "    inflation_usa = float(data[\"observations\"][-1][\"value\"])\n",
    "    print(\"✅ Inflation Rate USA:\", inflation_usa)\n",
    "else:\n",
    "    print(\"⚠️ No data found for USA Inflation Rate.\")\n",
    "\n",
    "# ✅ Fetch India Inflation Rate (World Bank)\n",
    "response = requests.get(inflation_india_url)\n",
    "data = response.json()\n",
    "\n",
    "if len(data) > 1 and \"value\" in data[1][-1]:\n",
    "    inflation_india = float(data[1][-1][\"value\"])\n",
    "    print(\"✅ Inflation Rate India:\", inflation_india)\n",
    "else:\n",
    "    print(\"⚠️ No data found for India Inflation Rate.\")\n"
   ]
  },
  {
   "cell_type": "code",
   "execution_count": 78,
   "id": "584d4eaa-bd0d-433f-96b1-12371dcc0070",
   "metadata": {},
   "outputs": [
    {
     "name": "stdout",
     "output_type": "stream",
     "text": [
      "✅ Dollar Index: 90.8221\n"
     ]
    }
   ],
   "source": [
    "dollar_index_url = f\"https://api.stlouisfed.org/fred/series/observations?series_id=DTWEXM&api_key={API_KEYS['fred']}&file_type=json\"\n",
    "\n",
    "response = requests.get(dollar_index_url)\n",
    "data = response.json()\n",
    "dollar_index = float(data[\"observations\"][-1][\"value\"])\n",
    "print(\"✅ Dollar Index:\", dollar_index)\n"
   ]
  },
  {
   "cell_type": "code",
   "execution_count": 85,
   "id": "6e6f4129-896e-47c5-acf3-0706484d35d1",
   "metadata": {},
   "outputs": [
    {
     "name": "stdout",
     "output_type": "stream",
     "text": [
      "✅ Unemployment Rate USA: 4.1\n",
      "✅ Unemployment Rate India: 7.722\n"
     ]
    }
   ],
   "source": [
    "unemployment_usa_url = f\"https://api.stlouisfed.org/fred/series/observations?series_id=UNRATE&api_key={API_KEYS['fred']}&file_type=json\"\n",
    "unemployment_india_url = \"http://api.worldbank.org/v2/country/IN/indicator/SL.UEM.TOTL.ZS?format=json\"\n",
    "\n",
    "# ✅ Fetch USA Unemployment Rate from FRED\n",
    "response = requests.get(unemployment_usa_url)\n",
    "data = response.json()\n",
    "\n",
    "if \"observations\" in data and len(data[\"observations\"]) > 0:\n",
    "    unemployment_usa = float(data[\"observations\"][-1][\"value\"])\n",
    "    print(\"✅ Unemployment Rate USA:\", unemployment_usa)\n",
    "else:\n",
    "    print(\"⚠️ No data found for USA Unemployment Rate.\")\n",
    "\n",
    "# ✅ Fetch India Unemployment Rate from World Bank\n",
    "response = requests.get(unemployment_india_url)\n",
    "data = response.json()\n",
    "\n",
    "# Ensure the response contains valid data\n",
    "if len(data) > 1 and isinstance(data[1], list) and len(data[1]) > 0:\n",
    "    for entry in reversed(data[1]):  # Check latest available data\n",
    "        if entry.get(\"value\") is not None:\n",
    "            unemployment_india = float(entry[\"value\"])\n",
    "            print(\"✅ Unemployment Rate India:\", unemployment_india)\n",
    "            break\n",
    "    else:\n",
    "        print(\"⚠️ No valid data found for India Unemployment Rate.\")\n",
    "else:\n",
    "    print(\"⚠️ No data found for India Unemployment Rate.\")\n"
   ]
  },
  {
   "cell_type": "code",
   "execution_count": 87,
   "id": "f747a84e-7d6a-4228-ae5a-2edab46cf562",
   "metadata": {},
   "outputs": [
    {
     "name": "stdout",
     "output_type": "stream",
     "text": [
      "✅ Feature engineering completed and saved to 'processed_data.csv'\n"
     ]
    }
   ],
   "source": [
    "import pandas as pd\n",
    "\n",
    "# Load dataset\n",
    "df = pd.read_csv(\"cleaned_dataset.csv\", parse_dates=[\"Date\"])\n",
    "df.sort_values(by=\"Date\", inplace=True)\n",
    "\n",
    "# Lag Features\n",
    "df[\"Exchange_Rate_Lag_1\"] = df[\"Exchange Rate (USD/INR)\"].shift(1)\n",
    "df[\"Exchange_Rate_Lag_3\"] = df[\"Exchange Rate (USD/INR)\"].shift(3)\n",
    "df[\"NIFTY_Lag_1\"] = df[\"NIFTY\"].shift(1)\n",
    "df[\"SP500_Lag_1\"] = df[\"S&P500\"].shift(1)\n",
    "\n",
    "# Moving Average\n",
    "df[\"Exchange_Rate_MA_3\"] = df[\"Exchange Rate (USD/INR)\"].rolling(window=3).mean()\n",
    "\n",
    "# Volatility (Standard Deviation over 7 days)\n",
    "df[\"Exchange_Rate_Volatility_7\"] = df[\"Exchange Rate (USD/INR)\"].rolling(window=7).std()\n",
    "\n",
    "# Percentage Change\n",
    "df[\"Exchange_Rate_Percent_Change\"] = df[\"Exchange Rate (USD/INR)\"].pct_change() * 100\n",
    "df[\"NIFTY_Percent_Change\"] = df[\"NIFTY\"].pct_change() * 100\n",
    "df[\"SP500_Percent_Change\"] = df[\"S&P500\"].pct_change() * 100\n",
    "df[\"GDP_India_Change\"] = df[\"GDP Rate India\"].pct_change() * 100\n",
    "df[\"GDP_USA_Change\"] = df[\"GDP Rate USA\"].pct_change() * 100\n",
    "df[\"Dollar_Index_Percent_Change\"] = df[\"Dollar_Index\"].pct_change() * 100\n",
    "\n",
    "# Handling missing values after feature engineering\n",
    "df.dropna(inplace=True)\n",
    "\n",
    "# Save processed dataset\n",
    "df.to_csv(\"processed_data.csv\", index=False)\n",
    "\n",
    "print(\"✅ Feature engineering completed and saved to 'processed_data.csv'\")"
   ]
  },
  {
   "cell_type": "code",
   "execution_count": 97,
   "id": "1c8c2a2b-972d-49f1-bfc0-d5b9cb119eb5",
   "metadata": {},
   "outputs": [
    {
     "name": "stdout",
     "output_type": "stream",
     "text": [
      "✅ New data appended and saved as processed_data.csv\n"
     ]
    }
   ],
   "source": [
    "import pandas as pd\n",
    "import numpy as np\n",
    "import requests\n",
    "\n",
    "# Load the existing cleaned dataset\n",
    "file_path = \"cleaned_dataset.csv\"\n",
    "df = pd.read_csv(file_path, parse_dates=[\"Date\"], dayfirst=True)\n",
    "\n",
    "# Fetch the latest exchange rate data from the API\n",
    "latest_exchange_rate = usd_inr\n",
    "\n",
    "# Calculate exchange rate-based features using historical data\n",
    "exchange_rate_series = df[\"Exchange Rate (USD/INR)\"].copy()\n",
    "exchange_rate_series = pd.concat([exchange_rate_series, pd.Series([latest_exchange_rate])], ignore_index=True)\n",
    "\n",
    "df[\"Exchange_Rate_Lag_1\"] = exchange_rate_series.shift(1)\n",
    "df[\"Exchange_Rate_Lag_3\"] = exchange_rate_series.shift(3)\n",
    "df[\"Exchange_Rate_MA_3\"] = exchange_rate_series.rolling(window=3).mean()\n",
    "df[\"Exchange_Rate_Volatility_7\"] = exchange_rate_series.pct_change().rolling(window=7).std()\n",
    "df[\"Exchange_Rate_Percent_Change\"] = exchange_rate_series.pct_change()\n",
    "\n",
    "# Fetch other economic indicators from API (Replace these with actual API responses)\n",
    "nifty = nifty_price  # Latest NIFTY Index value\n",
    "sp500 = sp500_price   # Latest S&P 500 Index value\n",
    "interest_rate_usa = usa_interest_rate\n",
    "interest_rate_india = india_interest_rate\n",
    "inflation_rate_india = inflation_india\n",
    "inflation_rate_usa = inflation_usa\n",
    "gdp_rate_india = gdp_india\n",
    "gdp_rate_usa = gdp_usa\n",
    "gdp_india_change = gdp_rate_india - df[\"GDP Rate India\"].iloc[-1]\n",
    "gdp_usa_change = gdp_rate_usa - df[\"GDP Rate USA\"].iloc[-1]\n",
    "exports = df[\"Exports\"].iloc[-1]\n",
    "imports = df[\"GDP Rate India\"].iloc[-1]\n",
    "unemployment_rate_india = unemployment_india\n",
    "us_unemployment_rate = unemployment_usa\n",
    "dollar_index = dollar_index\n",
    "dollar_index_percent_change = (dollar_index - df[\"Dollar_Index\"].iloc[-1]) / df[\"Dollar_Index\"].iloc[-1]\n",
    "\n",
    "# Create a new row with the latest data\n",
    "new_row = pd.DataFrame({\n",
    "    \"Date\": [pd.Timestamp.today().normalize()],\n",
    "    \"Exchange Rate (USD/INR)\": [latest_exchange_rate],\n",
    "    \"Exchange_Rate_Lag_1\": [df[\"Exchange_Rate_Lag_1\"].iloc[-1]],\n",
    "    \"Exchange_Rate_Lag_3\": [df[\"Exchange_Rate_Lag_3\"].iloc[-1]],\n",
    "    \"Exchange_Rate_MA_3\": [df[\"Exchange_Rate_MA_3\"].iloc[-1]],\n",
    "    \"Exchange_Rate_Volatility_7\": [df[\"Exchange_Rate_Volatility_7\"].iloc[-1]],\n",
    "    \"Exchange_Rate_Percent_Change\": [df[\"Exchange_Rate_Percent_Change\"].iloc[-1]],\n",
    "    \"NIFTY\": [nifty],\n",
    "    \"S&P500\": [sp500],\n",
    "    \"NIFTY_Lag_1\": [df[\"NIFTY\"].iloc[-1]],\n",
    "    \"SP500_Lag_1\": [df[\"S&P500\"].iloc[-1]],\n",
    "    \"NIFTY_Percent_Change\": [(nifty - df[\"NIFTY\"].iloc[-1]) / df[\"NIFTY\"].iloc[-1]],\n",
    "    \"SP500_Percent_Change\": [(sp500 - df[\"S&P500\"].iloc[-1]) / df[\"S&P500\"].iloc[-1]],\n",
    "    \"Interest Rate USA\": [interest_rate_usa],\n",
    "    \"Interest Rate India\": [interest_rate_india],\n",
    "    \"Inflation_Rate_India\": [inflation_rate_india],\n",
    "    \"Inflation_Rate_US\": [inflation_rate_usa],\n",
    "    \"GDP Rate India\": [gdp_rate_india],\n",
    "    \"GDP Rate USA\": [gdp_rate_usa],\n",
    "    \"GDP_India_Change\": [gdp_india_change],\n",
    "    \"GDP_USA_Change\": [gdp_usa_change],\n",
    "    \"Exports\": [exports],\n",
    "    \"Imports\": [imports],\n",
    "    \"Unemployment_Rate_India\": [unemployment_rate_india],\n",
    "    \"US_Unemployment_Rate\": [us_unemployment_rate],\n",
    "    \"Dollar_Index\": [dollar_index],\n",
    "    \"Dollar_Index_Percent_Change\": [dollar_index_percent_change]\n",
    "})\n",
    "\n",
    "# Check if the latest date already exists\n",
    "# print(new_row[\"Date\"].iloc[0])\n",
    "if latest_date != new_row[\"Date\"].iloc[0]:\n",
    "    df = pd.concat([df, new_row], ignore_index=True)\n",
    "    df.to_csv(\"processed_data.csv\", index=False)\n",
    "    print(\"✅ New data appended and saved as processed_data.csv\")\n",
    "else:\n",
    "    print(\"⚠️ Latest date already exists. No new data added.\")\n"
   ]
  },
  {
   "cell_type": "code",
   "execution_count": 127,
   "id": "5440bb95-d884-49ef-bafc-3652d0312b6f",
   "metadata": {},
   "outputs": [],
   "source": [
    "import joblib\n",
    "from sklearn.metrics import mean_absolute_error, mean_squared_error, r2_score\n",
    "\n",
    "scaler_X = joblib.load('standard_X.pkl') \n",
    "scaler_y = joblib.load('standard_y.pkl')  \n",
    "minmax_X = joblib.load('minmax_X.pkl')\n",
    "minmax_y = joblib.load('minmax_y.pkl')"
   ]
  },
  {
   "cell_type": "code",
   "execution_count": 128,
   "id": "386ff961-111a-4704-bccc-3bc077fad0d5",
   "metadata": {},
   "outputs": [],
   "source": [
    "if 'Date' in new_row.columns:\n",
    "    new_row = new_row.drop(columns=['Date'])"
   ]
  },
  {
   "cell_type": "code",
   "execution_count": 129,
   "id": "f810991e-0a1e-4964-8ea1-23a2a616fd08",
   "metadata": {},
   "outputs": [],
   "source": [
    "X_new = new_row.drop(columns=[\"Exchange Rate (USD/INR)\"])\n",
    "y_new = latest_exchange_rate"
   ]
  },
  {
   "cell_type": "code",
   "execution_count": 131,
   "id": "ea4b509e-f2c3-4360-a569-8551256c58c6",
   "metadata": {},
   "outputs": [
    {
     "data": {
      "text/plain": [
       "Index(['Exchange_Rate_Lag_1', 'Exchange_Rate_Lag_3', 'Exchange_Rate_MA_3',\n",
       "       'Exchange_Rate_Volatility_7', 'Exchange_Rate_Percent_Change', 'NIFTY',\n",
       "       'S&P500', 'NIFTY_Lag_1', 'SP500_Lag_1', 'NIFTY_Percent_Change',\n",
       "       'SP500_Percent_Change', 'Interest Rate USA', 'Interest Rate India',\n",
       "       'Inflation_Rate_India', 'Inflation_Rate_US', 'GDP Rate India',\n",
       "       'GDP Rate USA', 'GDP_India_Change', 'GDP_USA_Change', 'Exports',\n",
       "       'Imports', 'Unemployment_Rate_India', 'US_Unemployment_Rate',\n",
       "       'Dollar_Index', 'Dollar_Index_Percent_Change'],\n",
       "      dtype='object')"
      ]
     },
     "execution_count": 131,
     "metadata": {},
     "output_type": "execute_result"
    }
   ],
   "source": [
    "X_new.columns"
   ]
  },
  {
   "cell_type": "code",
   "execution_count": 141,
   "id": "510c7a77-30fa-4a09-8aa3-ea6f16fc7a6e",
   "metadata": {},
   "outputs": [
    {
     "name": "stdout",
     "output_type": "stream",
     "text": [
      "Regression: \n",
      "Original:  85.817413\n",
      "Predictions:  755.9688567666287\n"
     ]
    }
   ],
   "source": [
    "ridge_model = joblib.load('best_ridge_model.pkl') \n",
    "X_new_scaled = scaler_X.transform(X_new)\n",
    "\n",
    "y_pred_new = ridge_model.predict(X_new_scaled)\n",
    "y_pred_new = y_pred_new.reshape(-1, 1)\n",
    "\n",
    "y_pred_new_original = scaler_y.inverse_transform(y_pred_new)[0][0]\n",
    "\n",
    "print(\"Regression: \")\n",
    "print(\"Original: \", y_new)\n",
    "print(\"Predictions: \", y_pred_new_original)"
   ]
  },
  {
   "cell_type": "code",
   "execution_count": 144,
   "id": "9e047f59-2ffc-4e92-a5ee-1bd113bb19b0",
   "metadata": {},
   "outputs": [
    {
     "name": "stdout",
     "output_type": "stream",
     "text": [
      "XG Boost: \n",
      "Original:  85.817413\n",
      "Predictions:  82.76837\n"
     ]
    }
   ],
   "source": [
    "xgboost_model = joblib.load('best_xgb_model.pkl')\n",
    "\n",
    "y_pred_new = xgboost_model.predict(X_new)[0]\n",
    "# y_pred_new = y_pred_new.reshape(-1, 1)\n",
    "\n",
    "# y_pred_new_original = scaler_y.inverse_transform(y_pred_new)[0][0]\n",
    "\n",
    "print(\"XG Boost: \")\n",
    "print(\"Original: \", y_new)\n",
    "print(\"Predictions: \", y_pred_new)"
   ]
  },
  {
   "cell_type": "code",
   "execution_count": 152,
   "id": "2473583c-19fc-43eb-bc7b-212cadaccff7",
   "metadata": {},
   "outputs": [
    {
     "name": "stderr",
     "output_type": "stream",
     "text": [
      "WARNING:absl:Compiled the loaded model, but the compiled metrics have yet to be built. `model.compile_metrics` will be empty until you train or evaluate the model.\n"
     ]
    }
   ],
   "source": [
    "from keras.models import load_model\n",
    "lstm_model = load_model('lstm_exchange_rate_model.h5')"
   ]
  },
  {
   "cell_type": "code",
   "execution_count": 153,
   "id": "464f9ecc-1d80-4deb-982c-4047050e3ba1",
   "metadata": {},
   "outputs": [
    {
     "name": "stdout",
     "output_type": "stream",
     "text": [
      "\u001b[1m1/1\u001b[0m \u001b[32m━━━━━━━━━━━━━━━━━━━━\u001b[0m\u001b[37m\u001b[0m \u001b[1m0s\u001b[0m 447ms/step\n",
      "LSTM Predictions:\n",
      "Original: 85.817413\n",
      "Predictions: 60.556797\n"
     ]
    }
   ],
   "source": [
    "X_new_scaled = X_new_scaled.reshape((X_new_scaled.shape[0], X_new_scaled.shape[1], 1))\n",
    "\n",
    "# Make predictions using the LSTM model\n",
    "y_pred_new_lstm = lstm_model.predict(X_new_scaled)\n",
    "\n",
    "# Reshape predictions (if needed) to match the expected output format\n",
    "y_pred_new_lstm = y_pred_new_lstm.reshape(-1, 1)\n",
    "\n",
    "# Inverse transform predictions to get back to the original scale\n",
    "y_pred_new_lstm_original = minmax_y.inverse_transform(y_pred_new_lstm)[0][0]\n",
    "\n",
    "# Print results\n",
    "print(\"LSTM Predictions:\")\n",
    "print(\"Original:\", y_new)\n",
    "print(\"Predictions:\", y_pred_new_lstm_original)\n"
   ]
  },
  {
   "cell_type": "code",
   "execution_count": null,
   "id": "fb7db705-73ef-4f1a-bffc-7e228b7995cc",
   "metadata": {},
   "outputs": [],
   "source": []
  },
  {
   "cell_type": "code",
   "execution_count": null,
   "id": "2f0dda4a-5b7a-42b1-8c87-30a6aa1071a4",
   "metadata": {},
   "outputs": [],
   "source": []
  }
 ],
 "metadata": {
  "kernelspec": {
   "display_name": "Python 3 (ipykernel)",
   "language": "python",
   "name": "python3"
  },
  "language_info": {
   "codemirror_mode": {
    "name": "ipython",
    "version": 3
   },
   "file_extension": ".py",
   "mimetype": "text/x-python",
   "name": "python",
   "nbconvert_exporter": "python",
   "pygments_lexer": "ipython3",
   "version": "3.11.7"
  }
 },
 "nbformat": 4,
 "nbformat_minor": 5
}
